{
 "cells": [
  {
   "cell_type": "markdown",
   "metadata": {},
   "source": [
    "PowerApps useful operation and formula\n",
    "========="
   ]
  },
  {
   "cell_type": "markdown",
   "metadata": {},
   "source": [
    "1. show data in 'Text Input' from 'Data table':\n",
    "\n",
    "    - formula is placed in 'Text Input'\n",
    "    - Click on 'Text Input' that you created -> Advanced -> DATA -> Default -> 'use formula below'\n",
    "\n",
    "    <b>'data_Table_Name'.Selected.'Column Name'</b>\n",
    "    "
   ]
  },
  {
   "cell_type": "markdown",
   "metadata": {},
   "source": [
    "2. When click, Go back to the previous screen \n",
    "    - it will mark which screen you came from and navigate back on selcet\n",
    "    - Button -> Advanced -> Action -> OnSelect -> 'use formula below'\n",
    "    \n",
    "    <b>Back(ScreenTransition.Cover)</b>"
   ]
  },
  {
   "cell_type": "markdown",
   "metadata": {},
   "source": [
    "3. When click, Navigate to a particular screen\n",
    "    - create a build and go to the advance setting \n",
    "    - Button -> Advanced -> Action -> OnSelect -> 'use formula below'\n",
    "\n",
    "    <b>Navigate('screen_Name',ScreenTransition.Cover)</b>"
   ]
  },
  {
   "cell_type": "markdown",
   "metadata": {},
   "source": [
    "4. Horizontal 'Radio' - only one can be selected among all the options\n",
    "    \n",
    "    - create the 'Radio' under Controls\n",
    "    - change the name of the radio to what you need it to be 'Items' = <b>[\"NameA\",\"NameB\",\"NameC\"]</b>\n",
    "    - 'Layout' = <b>Layout.Horizontal</b>\n"
   ]
  },
  {
   "cell_type": "markdown",
   "metadata": {},
   "source": [
    "5. Concatenate text - we need two 'Text Input' box, the 1st has data in it, the 2nd is empty and needs to get the data from 1st\n",
    "\n",
    "    - if it's simply the actual text in the 1st 'Text Input' box without referencing other data source, use <b>text_Input_Name</b>\n",
    "    - if the text in the 'Text Input' box is reference from other sources, for example, data source, then use <b>'text_Input_Name'.Text</b>"
   ]
  },
  {
   "cell_type": "markdown",
   "metadata": {},
   "source": [
    "6. add the values passed as parameters to the data source"
   ]
  },
  {
   "cell_type": "raw",
   "metadata": {},
   "source": [
    "Collect(addresses,\n",
    "            {\n",
    "                Level:'input-level_3'.Text,\n",
    "                'Street No':'input-streetNo_3'.Text, \n",
    "                'No. Suffix':input_streetNoSuffix_3.Text,\n",
    "                'Street name':'input-streetName_3'.Text,\n",
    "                'Street Type':'input-streetType_3'.Text, \n",
    "                'Ty. Suffix':'input-streetTypeSuffix_3'.Text,\n",
    "                Suburb:'input-suburb_3'.Text, \n",
    "                State:'Dropdown-state_3'.SelectedText.Value,\n",
    "                Postcode:'input-postcode_3'.Text\n",
    "            })"
   ]
  },
  {
   "cell_type": "markdown",
   "metadata": {},
   "source": [
    "7. reset a field value\n",
    "    - <b>Reset('field_name')</b> "
   ]
  },
  {
   "cell_type": "markdown",
   "metadata": {},
   "source": [
    "8. remove a row of data from collection - it deletes data from the data source\n",
    "    - <b>Remove(data_source,Gallery.selected)</b> "
   ]
  },
  {
   "cell_type": "markdown",
   "metadata": {},
   "source": [
    "9. pass the parameters in data:{}, call the custom API and stores the response as collection called APIResponse\n",
    "    - <b>Remove(data_source,Gallery.selected)</b> "
   ]
  },
  {
   "cell_type": "raw",
   "metadata": {},
   "source": [
    "ClearCollect(APIResponse, NexonCarrierAPI.GetAvailableServices(\n",
    "        {\n",
    "            data: {\n",
    "                addressLine: {\n",
    "                    levelNumber: 'input-level_2'.Text,\n",
    "                    unitNumber: 'input-unitNo_2'.Text,\n",
    "                    streetNumber: 'input-streetNo_2'.Text,\n",
    "                    streetName: 'input-streetName_2'.Text,\n",
    "                    streetType: 'input-postcode_2'.Text\n",
    "                },\n",
    "                suburb: 'input-suburb_2'.Text,\n",
    "                state: 'Dropdown-state_2'.Selected.Value,\n",
    "                postcode: 'input-postcode_2'.Text\n",
    "            }\n",
    "        }\n",
    "    )\n",
    ");"
   ]
  },
  {
   "cell_type": "markdown",
   "metadata": {},
   "source": [
    "9. Filter data from a collection source\n",
    "    - <b>Filter(data_source_in_collection, column_name = \"some_value\")</b> "
   ]
  },
  {
   "cell_type": "markdown",
   "metadata": {},
   "source": [
    "10. Check for blank values, if it's blank do first thing and false do the other\n",
    "    - <b>If(IsBlank(\"some field\") = true, \"do this if it's true\", \"do this if it's false\") <b>"
   ]
  },
  {
   "cell_type": "markdown",
   "metadata": {},
   "source": [
    "11. Concatenate texts\n",
    "    - <b>Concatenate(\"text1\", \"text2\")<b>"
   ]
  },
  {
   "cell_type": "code",
   "execution_count": null,
   "metadata": {},
   "outputs": [],
   "source": []
  }
 ],
 "metadata": {
  "kernelspec": {
   "display_name": "Python 3",
   "language": "python",
   "name": "python3"
  },
  "language_info": {
   "codemirror_mode": {
    "name": "ipython",
    "version": 3
   },
   "file_extension": ".py",
   "mimetype": "text/x-python",
   "name": "python",
   "nbconvert_exporter": "python",
   "pygments_lexer": "ipython3",
   "version": "3.7.3"
  }
 },
 "nbformat": 4,
 "nbformat_minor": 2
}
